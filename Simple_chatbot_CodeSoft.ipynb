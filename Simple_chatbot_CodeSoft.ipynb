{
 "cells": [
  {
   "cell_type": "code",
   "execution_count": 1,
   "id": "5e856254",
   "metadata": {},
   "outputs": [
    {
     "name": "stdout",
     "output_type": "stream",
     "text": [
      "Welcome to the Simple Chatbot!\n",
      "You can start chatting. Type 'goodbye' to exit.\n",
      "You: how are you\n",
      "Bot: I'm just a bot, but thank you for asking!\n",
      "You: who is dale steyn\n",
      "Bot: I'm sorry, I didn't understand that.\n",
      "You: what is your name\n",
      "Bot: I'm just a simple chatbot.\n",
      "You: goodbye\n",
      "Goodbye! Have a great day!\n"
     ]
    }
   ],
   "source": [
    "def respond_to_user_input(user_input):\n",
    "    # Convert user input to lowercase for easier comparison\n",
    "    user_input = user_input.lower()\n",
    "    \n",
    "    # Define predefined rules and responses\n",
    "    rules = {\n",
    "        \"hello\": \"Hello! How can I assist you?\",\n",
    "        \"how are you\": \"I'm just a bot, but thank you for asking!\",\n",
    "        \"what is your name\": \"I'm just a simple chatbot.\",\n",
    "        \"goodbye\": \"Goodbye! Have a great day!\",\n",
    "        \"default\": \"I'm sorry, I didn't understand that.\"\n",
    "    }\n",
    "    \n",
    "    # Check if user input matches any predefined rules\n",
    "    for pattern, response in rules.items():\n",
    "        if pattern in user_input:\n",
    "            return response\n",
    "    \n",
    "    # If no matching rule found, return default response\n",
    "    return rules[\"default\"]\n",
    "\n",
    "# Main function to run the chatbot\n",
    "def main():\n",
    "    print(\"Welcome to the Simple Chatbot!\")\n",
    "    print(\"You can start chatting. Type 'goodbye' to exit.\")\n",
    "    \n",
    "    while True:\n",
    "        # Get user input\n",
    "        user_input = input(\"You: \")\n",
    "        \n",
    "        # Check if user wants to exit\n",
    "        if user_input.lower() == \"goodbye\":\n",
    "            print(respond_to_user_input(user_input))\n",
    "            break\n",
    "        \n",
    "        # Get response from the chatbot based on user input\n",
    "        bot_response = respond_to_user_input(user_input)\n",
    "        print(\"Bot:\", bot_response)\n",
    "\n",
    "if __name__ == \"__main__\":\n",
    "    main()\n"
   ]
  },
  {
   "cell_type": "code",
   "execution_count": null,
   "id": "958535bd",
   "metadata": {},
   "outputs": [],
   "source": []
  }
 ],
 "metadata": {
  "kernelspec": {
   "display_name": "Python 3 (ipykernel)",
   "language": "python",
   "name": "python3"
  },
  "language_info": {
   "codemirror_mode": {
    "name": "ipython",
    "version": 3
   },
   "file_extension": ".py",
   "mimetype": "text/x-python",
   "name": "python",
   "nbconvert_exporter": "python",
   "pygments_lexer": "ipython3",
   "version": "3.9.12"
  }
 },
 "nbformat": 4,
 "nbformat_minor": 5
}
