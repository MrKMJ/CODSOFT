{
 "cells": [
  {
   "cell_type": "code",
   "execution_count": 1,
   "id": "cd56ffb6",
   "metadata": {},
   "outputs": [
    {
     "name": "stderr",
     "output_type": "stream",
     "text": [
      "C:\\Users\\homE\\anaconda3\\lib\\site-packages\\scipy\\__init__.py:146: UserWarning: A NumPy version >=1.16.5 and <1.23.0 is required for this version of SciPy (detected version 1.26.4\n",
      "  warnings.warn(f\"A NumPy version >={np_minversion} and <{np_maxversion}\"\n"
     ]
    },
    {
     "name": "stdout",
     "output_type": "stream",
     "text": [
      "Recommended movies for user 0 : [4, 2, 4, 3, 4]\n"
     ]
    }
   ],
   "source": [
    "import numpy as np\n",
    "from sklearn.metrics.pairwise import cosine_similarity\n",
    "\n",
    "class SimpleRecommendationSystem:\n",
    "    def __init__(self, data):\n",
    "        self.data = data\n",
    "        self.similarity_matrix = cosine_similarity(data)\n",
    "    \n",
    "    def recommend_movies(self, user_id, top_n=5):\n",
    "        user_ratings = self.data[user_id]\n",
    "        \n",
    "        # Find similar users\n",
    "        similar_users = np.argsort(self.similarity_matrix[user_id])[::-1][1:]  # Exclude the user itself\n",
    "        \n",
    "        # Generate recommendations\n",
    "        recommendations = []\n",
    "        for similar_user in similar_users:\n",
    "            similar_user_ratings = self.data[similar_user]\n",
    "            for movie_id, rating in enumerate(similar_user_ratings):\n",
    "                if rating > 3 and user_ratings[movie_id] == 0:  # Recommend movies rated highly by similar users\n",
    "                    recommendations.append(movie_id)\n",
    "                    if len(recommendations) >= top_n:\n",
    "                        return recommendations\n",
    "        \n",
    "        return recommendations\n",
    "\n",
    "# Sample dataset (user ratings for movies)\n",
    "data = np.array([\n",
    "    [5, 4, 0, 0, 0],\n",
    "    [0, 0, 5, 4, 0],\n",
    "    [4, 0, 0, 0, 5],\n",
    "    [0, 0, 0, 4, 5],\n",
    "    [0, 0, 5, 0, 4]\n",
    "])\n",
    "\n",
    "# Create recommendation system instance\n",
    "recommendation_system = SimpleRecommendationSystem(data)\n",
    "\n",
    "# Generate recommendations for a user (e.g., user with ID 0)\n",
    "user_id = 0\n",
    "recommendations = recommendation_system.recommend_movies(user_id)\n",
    "print(\"Recommended movies for user\", user_id, \":\", recommendations)\n"
   ]
  },
  {
   "cell_type": "code",
   "execution_count": null,
   "id": "4812fd3d",
   "metadata": {},
   "outputs": [],
   "source": []
  }
 ],
 "metadata": {
  "kernelspec": {
   "display_name": "Python 3 (ipykernel)",
   "language": "python",
   "name": "python3"
  },
  "language_info": {
   "codemirror_mode": {
    "name": "ipython",
    "version": 3
   },
   "file_extension": ".py",
   "mimetype": "text/x-python",
   "name": "python",
   "nbconvert_exporter": "python",
   "pygments_lexer": "ipython3",
   "version": "3.9.12"
  }
 },
 "nbformat": 4,
 "nbformat_minor": 5
}
